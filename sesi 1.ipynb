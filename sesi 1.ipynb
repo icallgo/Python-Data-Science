{
 "cells": [
  {
   "cell_type": "code",
   "execution_count": 4,
   "id": "ad7cd91b-4f99-497c-9ac9-b982ae0fa77d",
   "metadata": {},
   "outputs": [
    {
     "name": "stdout",
     "output_type": "stream",
     "text": [
      "444\n"
     ]
    }
   ],
   "source": [
    "print (123 + 321)"
   ]
  },
  {
   "cell_type": "code",
   "execution_count": 6,
   "id": "33648320",
   "metadata": {},
   "outputs": [
    {
     "name": "stdout",
     "output_type": "stream",
     "text": [
      "10\n",
      "<class 'int'>\n"
     ]
    }
   ],
   "source": [
    "print (10)\n",
    "print (type(10))"
   ]
  },
  {
   "cell_type": "code",
   "execution_count": 8,
   "id": "907c8d23",
   "metadata": {},
   "outputs": [
    {
     "name": "stdout",
     "output_type": "stream",
     "text": [
      "3.5\n",
      "<class 'float'>\n",
      "4.0\n",
      "0.4\n"
     ]
    }
   ],
   "source": [
    "print (3.5)\n",
    "print (type(3.5))\n",
    "print (4.)\n",
    "print (.4)"
   ]
  },
  {
   "cell_type": "code",
   "execution_count": 10,
   "id": "21f73afe",
   "metadata": {},
   "outputs": [
    {
     "name": "stdout",
     "output_type": "stream",
     "text": [
      "Hactiv8\n",
      "<class 'str'>\n"
     ]
    }
   ],
   "source": [
    "print (\"Hactiv8\")\n",
    "print (type(\"Hactive8\"))"
   ]
  },
  {
   "cell_type": "code",
   "execution_count": 14,
   "id": "238d7527",
   "metadata": {},
   "outputs": [
    {
     "name": "stdout",
     "output_type": "stream",
     "text": [
      "<class 'bool'>\n",
      "<class 'bool'>\n"
     ]
    }
   ],
   "source": [
    "print (type(True))\n",
    "print (type(False))"
   ]
  },
  {
   "cell_type": "code",
   "execution_count": 22,
   "id": "aab6fb3d",
   "metadata": {},
   "outputs": [
    {
     "name": "stdout",
     "output_type": "stream",
     "text": [
      "100\n"
     ]
    },
    {
     "data": {
      "text/plain": [
       "100"
      ]
     },
     "execution_count": 22,
     "metadata": {},
     "output_type": "execute_result"
    }
   ],
   "source": [
    "n = 100\n",
    "\n",
    "print (n)\n",
    "n"
   ]
  },
  {
   "cell_type": "code",
   "execution_count": 25,
   "id": "ce98e882",
   "metadata": {},
   "outputs": [
    {
     "name": "stdout",
     "output_type": "stream",
     "text": [
      "100 100 100\n"
     ]
    }
   ],
   "source": [
    "a = b = c = 100\n",
    "\n",
    "print (a, b, c)"
   ]
  },
  {
   "cell_type": "code",
   "execution_count": 27,
   "id": "ca66023f",
   "metadata": {},
   "outputs": [
    {
     "name": "stdout",
     "output_type": "stream",
     "text": [
      "15.5\n",
      "Now i'am string\n"
     ]
    }
   ],
   "source": [
    "var = 15.5\n",
    "print (var)\n",
    "\n",
    "var = \"Now i'am string\"\n",
    "print (var)"
   ]
  },
  {
   "cell_type": "code",
   "execution_count": 29,
   "id": "0358849e",
   "metadata": {},
   "outputs": [
    {
     "name": "stdout",
     "output_type": "stream",
     "text": [
      "Hactive8 20 True\n"
     ]
    }
   ],
   "source": [
    "#Nama variabel tidak boleh diawali dengan angka\n",
    "\n",
    "nama = \"Hactive8\"\n",
    "age = 20\n",
    "has_laptop = True\n",
    "\n",
    "print (nama, age, has_laptop)"
   ]
  },
  {
   "cell_type": "code",
   "execution_count": 35,
   "id": "5a429069",
   "metadata": {},
   "outputs": [
    {
     "name": "stdout",
     "output_type": "stream",
     "text": [
      "15\n",
      "5\n",
      "50\n",
      "2.0\n",
      "0\n",
      "100000\n"
     ]
    }
   ],
   "source": [
    "a = 10\n",
    "b = 5\n",
    "\n",
    "print (a + b)\n",
    "print (a - b)\n",
    "print (a * b)\n",
    "print (a / b)\n",
    "print (a % b) #standar pembagian selalu dalam tipe data float walau hasilnya tidak dalam bentuk pecahan\n",
    "print (a ** b)"
   ]
  },
  {
   "cell_type": "code",
   "execution_count": 37,
   "id": "edd62a65",
   "metadata": {},
   "outputs": [
    {
     "name": "stdout",
     "output_type": "stream",
     "text": [
      "False\n",
      "True\n",
      "True\n",
      "False\n",
      "True\n",
      "True\n",
      "True\n"
     ]
    }
   ],
   "source": [
    "a = 10\n",
    "b = 20\n",
    "\n",
    "print (a == b)\n",
    "print (a != b)\n",
    "print (a <= b)\n",
    "print (a >= b)\n",
    "\n",
    "a = 30\n",
    "b = 30\n",
    "\n",
    "print (a == b)\n",
    "print (a <= b)\n",
    "print (a >= b)"
   ]
  },
  {
   "cell_type": "code",
   "execution_count": 43,
   "id": "28dbba78",
   "metadata": {},
   "outputs": [
    {
     "name": "stdout",
     "output_type": "stream",
     "text": [
      "faisalganteng\n",
      "gatau bikin apa\n",
      "False\n",
      "True\n"
     ]
    },
    {
     "data": {
      "text/plain": [
       "'hantuhantuhantu'"
      ]
     },
     "execution_count": 43,
     "metadata": {},
     "output_type": "execute_result"
    }
   ],
   "source": [
    "f = \"faisal\"\n",
    "g = \"ganteng\"\n",
    "h = \"hantu\"\n",
    "\n",
    "print (f + g)\n",
    "print (\"gatau \" + \"bikin \" + \"apa\")\n",
    "print (f in \"Faisal ganteng\")\n",
    "print (f in \"faisal ganteng\")\n",
    "h * 3"
   ]
  },
  {
   "cell_type": "code",
   "execution_count": 46,
   "id": "f4e0482b",
   "metadata": {},
   "outputs": [
    {
     "name": "stdout",
     "output_type": "stream",
     "text": [
      "Oishi ne\n",
      "oishi ne\n",
      "oIshI Ne\n",
      "Oishi Ne\n",
      "OISHI NE\n"
     ]
    }
   ],
   "source": [
    "a = \"OiSHi nE\"\n",
    "\n",
    "print (a.capitalize())\n",
    "print (a.lower())\n",
    "print (a.swapcase())\n",
    "print (a.title())\n",
    "print (a.upper())"
   ]
  },
  {
   "cell_type": "code",
   "execution_count": 52,
   "id": "3a3d6985",
   "metadata": {},
   "outputs": [
    {
     "name": "stdout",
     "output_type": "stream",
     "text": [
      "[1, 2, 3, 4, 5]\n",
      "[6, 'tujuh', 8.0, 9, 'sepuluh']\n",
      "False\n"
     ]
    }
   ],
   "source": [
    "a = [1, 2, 3, 4, 5]\n",
    "b = [6, \"tujuh\", 8.0, 9 ,\"sepuluh\"]\n",
    "\n",
    "print (a)\n",
    "print (b)\n",
    "print (a == b)"
   ]
  },
  {
   "cell_type": "code",
   "execution_count": 58,
   "id": "a4a58d07",
   "metadata": {},
   "outputs": [
    {
     "name": "stdout",
     "output_type": "stream",
     "text": [
      "1\n",
      "5\n",
      "[3, 4]\n"
     ]
    }
   ],
   "source": [
    "a = [1, 2, 3, 4, 5]\n",
    "\n",
    "print (a[0])\n",
    "print (a[-1])\n",
    "print (a[2:4])\n"
   ]
  },
  {
   "cell_type": "code",
   "execution_count": 61,
   "id": "fca135e5",
   "metadata": {},
   "outputs": [
    {
     "name": "stdout",
     "output_type": "stream",
     "text": [
      "[1, 2, 3, 4, 5]\n",
      "[1, 2, 3, 4, 5, 6, 7, 8]\n",
      "[1, 2, 3, 4, 5, 1, 2, 3, 4, 5]\n"
     ]
    }
   ],
   "source": [
    "a = [1, 2, 3, 4, 5]\n",
    "\n",
    "print (a)\n",
    "print (a + [6, 7, 8])\n",
    "print (a * 2)"
   ]
  },
  {
   "cell_type": "code",
   "execution_count": 63,
   "id": "e009d259",
   "metadata": {},
   "outputs": [
    {
     "name": "stdout",
     "output_type": "stream",
     "text": [
      "[1, 2, 3, 4, 5]\n",
      "5\n",
      "1\n",
      "5\n"
     ]
    }
   ],
   "source": [
    "a = [1, 2, 3, 4, 5]\n",
    "\n",
    "print (a)\n",
    "print (len(a))\n",
    "print (min(a))\n",
    "print (max(a))"
   ]
  },
  {
   "cell_type": "code",
   "execution_count": 68,
   "id": "9eaf56a1",
   "metadata": {},
   "outputs": [
    {
     "name": "stdout",
     "output_type": "stream",
     "text": [
      "[1, 2, 3, 4, 5]\n",
      "['satu', 2, 3, 4, 'lima']\n",
      "[2, 3, 4, 'lima']\n"
     ]
    }
   ],
   "source": [
    "a = [1, 2, 3, 4, 5]\n",
    "\n",
    "print (a)\n",
    "\n",
    "a[0] = \"satu\"\n",
    "a[4] = \"lima\"\n",
    "\n",
    "print (a)\n",
    "\n",
    "del a[0]\n",
    "\n",
    "print (a)"
   ]
  },
  {
   "cell_type": "code",
   "execution_count": 71,
   "id": "9501a39c",
   "metadata": {},
   "outputs": [
    {
     "name": "stdout",
     "output_type": "stream",
     "text": [
      "(1, 2, 3, 4, 5)\n",
      "1\n",
      "5\n"
     ]
    }
   ],
   "source": [
    "t = (1, 2, 3, 4, 5)\n",
    "\n",
    "print (t)\n",
    "print (t[0])\n",
    "print (t[-1])"
   ]
  },
  {
   "cell_type": "code",
   "execution_count": 74,
   "id": "dd174498",
   "metadata": {},
   "outputs": [
    {
     "name": "stdout",
     "output_type": "stream",
     "text": [
      "foo\n",
      "qux\n"
     ]
    }
   ],
   "source": [
    "(s1, s2, s3, s4) = (\"foo\", \"bar\", \"baz\", \"qux\")\n",
    "\n",
    "print (s1)\n",
    "print (s4)"
   ]
  },
  {
   "cell_type": "code",
   "execution_count": 79,
   "id": "a0a8a31c",
   "metadata": {},
   "outputs": [
    {
     "name": "stdout",
     "output_type": "stream",
     "text": [
      "{'duelist': 'faisal', 'sentinel': 'fathur', 'initiator': 'reza', 'controller': 'duta'}\n",
      "faisal\n",
      "fathur\n",
      "{'duelist': 'faisal', 'sentinel': 'fathur', 'initiator': 'reza', 'controller': 'vikrie'}\n",
      "{'duelist': 'faisal', 'sentinel': 'fathur', 'controller': 'vikrie'}\n"
     ]
    }
   ],
   "source": [
    "valorant = {\n",
    "    \"duelist\" : \"faisal\",\n",
    "    \"sentinel\" : \"fathur\",\n",
    "    \"initiator\" : \"reza\",\n",
    "    \"controller\" : \"duta\"\n",
    "}\n",
    "print (valorant)\n",
    "print (valorant[\"duelist\"])\n",
    "print (valorant[\"sentinel\"])\n",
    "\n",
    "valorant[\"controller\"] = \"vikrie\"\n",
    "\n",
    "print (valorant)\n",
    "\n",
    "del valorant[\"initiator\"]\n",
    "\n",
    "print (valorant)"
   ]
  },
  {
   "cell_type": "code",
   "execution_count": 93,
   "id": "d7eb3411",
   "metadata": {},
   "outputs": [
    {
     "name": "stdout",
     "output_type": "stream",
     "text": [
      "{'nama': 'faisal', 'umur': 20, 'hobi': ['main game, badminton'], 'ortu': {'ayah': 'eko', 'ibu': 'eli'}}\n",
      "faisal\n",
      "['main game, badminton']\n",
      "eko\n"
     ]
    }
   ],
   "source": [
    "person = {}\n",
    "\n",
    "person [\"nama\"] = \"faisal\"\n",
    "person [\"umur\"] = 20\n",
    "person [\"hobi\"] = [\"main game, badminton\"]\n",
    "person [\"ortu\"] = {\"ayah\" : \"eko\", \"ibu\" : \"eli\"}\n",
    "\n",
    "print (person)\n",
    "print (person[\"nama\"])\n",
    "print (person[\"hobi\"])\n",
    "print (person[\"ortu\"][\"ayah\"])"
   ]
  },
  {
   "cell_type": "code",
   "execution_count": 94,
   "id": "85ed7641",
   "metadata": {},
   "outputs": [
    {
     "name": "stdout",
     "output_type": "stream",
     "text": [
      "dict_items([('a', 10), ('b', 20), ('c', 30)])\n",
      "dict_keys(['a', 'b', 'c'])\n",
      "dict_values([10, 20, 30])\n"
     ]
    }
   ],
   "source": [
    "d = {\"a\" : 10, \"b\" : 20, \"c\" : 30}\n",
    "\n",
    "print (d.items())\n",
    "print (d.keys())\n",
    "print (d.values())"
   ]
  }
 ],
 "metadata": {
  "kernelspec": {
   "display_name": "Python 3 (ipykernel)",
   "language": "python",
   "name": "python3"
  },
  "language_info": {
   "codemirror_mode": {
    "name": "ipython",
    "version": 3
   },
   "file_extension": ".py",
   "mimetype": "text/x-python",
   "name": "python",
   "nbconvert_exporter": "python",
   "pygments_lexer": "ipython3",
   "version": "3.11.4"
  }
 },
 "nbformat": 4,
 "nbformat_minor": 5
}
